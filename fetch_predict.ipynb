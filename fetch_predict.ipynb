{
 "cells": [
  {
   "cell_type": "code",
   "execution_count": 1,
   "metadata": {},
   "outputs": [],
   "source": [
    "import pickle\n",
    "import pandas as pd\n",
    "import requests"
   ]
  },
  {
   "cell_type": "code",
   "execution_count": 2,
   "metadata": {},
   "outputs": [],
   "source": [
    "def fetch_historical_data(api_key, limit=1):\n",
    "    url = f\"https://min-api.cryptocompare.com/data/v2/histohour\"\n",
    "    params = {\n",
    "        'fsym': 'BTC',\n",
    "        'tsym': 'USD',\n",
    "        'limit': limit,\n",
    "        'api_key': api_key\n",
    "    }\n",
    "    response = requests.get(url, params=params)\n",
    "    data = response.json()['Data']['Data']\n",
    "    return pd.DataFrame(data)\n",
    "\n",
    "api_key = '17011d57142c4a08089d7a61548de4f7cd9bb98bb186872eea1889a03c47ca73'\n",
    "df = fetch_historical_data(api_key)\n",
    "\n",
    "df = df.drop(columns=['conversionType', 'conversionSymbol'])\n",
    "\n",
    "# Convert time column to datetime\n",
    "df['time'] = pd.to_datetime(df['time'], unit='s')\n",
    "# Set time as index\n",
    "df.set_index('time', inplace=True)\n",
    "df = df[:-2:-3]"
   ]
  },
  {
   "cell_type": "code",
   "execution_count": 3,
   "metadata": {},
   "outputs": [
    {
     "name": "stdout",
     "output_type": "stream",
     "text": [
      "63613.03\n"
     ]
    },
    {
     "name": "stderr",
     "output_type": "stream",
     "text": [
      "C:\\Users\\drago\\AppData\\Local\\Temp\\ipykernel_8344\\3638463642.py:9: FutureWarning: Calling float on a single element Series is deprecated and will raise a TypeError in the future. Use float(ser.iloc[0]) instead\n",
      "  print(f'{float(prediction):.2f}')\n"
     ]
    }
   ],
   "source": [
    "# Load the trained model from the pickle file\n",
    "with open('trained_model.pkl', 'rb') as file:\n",
    "    model = pickle.load(file)\n",
    "\n",
    "# Make predictions\n",
    "prediction = model.predict(df.index[0])\n",
    "\n",
    "# Save the predictions\n",
    "print(f'{float(prediction):.2f}')"
   ]
  },
  {
   "cell_type": "code",
   "execution_count": null,
   "metadata": {},
   "outputs": [],
   "source": []
  }
 ],
 "metadata": {
  "kernelspec": {
   "display_name": "venv_mlops",
   "language": "python",
   "name": "python3"
  },
  "language_info": {
   "codemirror_mode": {
    "name": "ipython",
    "version": 3
   },
   "file_extension": ".py",
   "mimetype": "text/x-python",
   "name": "python",
   "nbconvert_exporter": "python",
   "pygments_lexer": "ipython3",
   "version": "3.11.9"
  }
 },
 "nbformat": 4,
 "nbformat_minor": 2
}
