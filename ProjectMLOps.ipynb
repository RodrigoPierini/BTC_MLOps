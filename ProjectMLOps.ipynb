{
 "cells": [
  {
   "cell_type": "code",
   "execution_count": 20,
   "metadata": {},
   "outputs": [],
   "source": [
    "#17011d57142c4a08089d7a61548de4f7cd9bb98bb186872eea1889a03c47ca73"
   ]
  },
  {
   "cell_type": "code",
   "execution_count": 21,
   "metadata": {},
   "outputs": [],
   "source": [
    "import requests\n",
    "import datetime\n",
    "import pandas as pd\n",
    "import mlflow\n",
    "import numpy as np\n",
    "import os\n",
    "import matplotlib.pyplot as plt\n",
    "import statsmodels.api as sm\n",
    "from statsmodels.tsa.stattools import adfuller\n",
    "from statsmodels.tsa.arima.model import ARIMA\n",
    "from sklearn.metrics import mean_absolute_error, mean_squared_error, r2_score\n",
    "import pickle"
   ]
  },
  {
   "cell_type": "code",
   "execution_count": 22,
   "metadata": {},
   "outputs": [],
   "source": [
    "\n",
    "def fetch_historical_data(api_key, limit=2000):\n",
    "    url = f\"https://min-api.cryptocompare.com/data/v2/histohour\"\n",
    "    params = {\n",
    "        'fsym': 'BTC',\n",
    "        'tsym': 'USD',\n",
    "        'limit': limit,\n",
    "        'api_key': api_key\n",
    "    }\n",
    "    response = requests.get(url, params=params)\n",
    "    data = response.json()['Data']['Data']\n",
    "    return pd.DataFrame(data)\n",
    "\n",
    "api_key = '17011d57142c4a08089d7a61548de4f7cd9bb98bb186872eea1889a03c47ca73'\n",
    "df = fetch_historical_data(api_key)"
   ]
  },
  {
   "cell_type": "code",
   "execution_count": 23,
   "metadata": {},
   "outputs": [],
   "source": [
    "df = df.drop(columns=['conversionType', 'conversionSymbol'])\n",
    "\n",
    "# Convert time column to datetime\n",
    "df['time'] = pd.to_datetime(df['time'], unit='s')\n",
    "\n",
    "# Set time as index\n",
    "df.set_index('time', inplace=True)"
   ]
  },
  {
   "cell_type": "code",
   "execution_count": 24,
   "metadata": {},
   "outputs": [],
   "source": [
    "df = df.drop(df.index[-1])"
   ]
  },
  {
   "cell_type": "code",
   "execution_count": 25,
   "metadata": {},
   "outputs": [],
   "source": [
    "# Define the split ratio\n",
    "train_size = int(len(df) * 0.8)\n",
    "\n",
    "# Split the data\n",
    "train, test = df[:train_size], df[train_size:]"
   ]
  },
  {
   "cell_type": "code",
   "execution_count": 26,
   "metadata": {},
   "outputs": [
    {
     "name": "stdout",
     "output_type": "stream",
     "text": [
      "Data is stationary after differencing.\n"
     ]
    }
   ],
   "source": [
    "# Perform Augmented Dickey-Fuller test\n",
    "result = adfuller(df['close'])\n",
    "\n",
    "# If p-value > 0.05, apply differencing\n",
    "if result[1] > 0.05:\n",
    "    df['close_diff'] = df['close'].diff().dropna()\n",
    "    \n",
    "    # Perform ADF test on differenced data\n",
    "    result_diff = adfuller(df['close_diff'].dropna())\n",
    "\n",
    "    if result_diff[1] < 0.05:\n",
    "        print(\"Data is stationary after differencing.\")\n",
    "        d = 1\n",
    "    else:\n",
    "        d = 2\n",
    "else:\n",
    "    print(\"Data is already stationary.\")\n",
    "    d = 0"
   ]
  },
  {
   "cell_type": "code",
   "execution_count": 27,
   "metadata": {},
   "outputs": [
    {
     "name": "stderr",
     "output_type": "stream",
     "text": [
      "c:\\Users\\drago\\Documents\\Ironhack\\Week8\\lydia_mlops\\venv_mlops\\Lib\\site-packages\\statsmodels\\tsa\\base\\tsa_model.py:473: ValueWarning: No frequency information was provided, so inferred frequency h will be used.\n",
      "  self._init_dates(dates, freq)\n",
      "c:\\Users\\drago\\Documents\\Ironhack\\Week8\\lydia_mlops\\venv_mlops\\Lib\\site-packages\\statsmodels\\tsa\\base\\tsa_model.py:473: ValueWarning: No frequency information was provided, so inferred frequency h will be used.\n",
      "  self._init_dates(dates, freq)\n",
      "c:\\Users\\drago\\Documents\\Ironhack\\Week8\\lydia_mlops\\venv_mlops\\Lib\\site-packages\\statsmodels\\tsa\\base\\tsa_model.py:473: ValueWarning: No frequency information was provided, so inferred frequency h will be used.\n",
      "  self._init_dates(dates, freq)\n"
     ]
    }
   ],
   "source": [
    "# Based on the plots and differencing\n",
    "p = 1\n",
    "q = 1\n",
    "\n",
    "# Fit ARIMA model\n",
    "model = ARIMA(df['close'], order=(p, d, q))\n",
    "model_fit = model.fit()"
   ]
  },
  {
   "cell_type": "code",
   "execution_count": 28,
   "metadata": {},
   "outputs": [],
   "source": [
    "# Predicting the test set\n",
    "start_index = test.index[0]\n",
    "end_index = test.index[-1]\n",
    "predictions = model_fit.predict(start=start_index, end=end_index, typ='levels')"
   ]
  },
  {
   "cell_type": "code",
   "execution_count": 29,
   "metadata": {},
   "outputs": [
    {
     "name": "stdout",
     "output_type": "stream",
     "text": [
      "Mean Absolute Error (MAE): 164.26917935317627\n",
      "Root Mean Squared Error (RMSE): 254.17512937961547\n"
     ]
    }
   ],
   "source": [
    "mae = mean_absolute_error(test['close'], predictions)\n",
    "rmse = np.sqrt(mean_squared_error(test['close'], predictions))\n",
    "print(f'Mean Absolute Error (MAE): {mae}')\n",
    "print(f'Root Mean Squared Error (RMSE): {rmse}')"
   ]
  },
  {
   "cell_type": "code",
   "execution_count": 30,
   "metadata": {},
   "outputs": [],
   "source": [
    "## how far is out the mean 252"
   ]
  },
  {
   "cell_type": "code",
   "execution_count": 31,
   "metadata": {},
   "outputs": [
    {
     "name": "stdout",
     "output_type": "stream",
     "text": [
      "R² Score: 0.9860546596349813\n"
     ]
    }
   ],
   "source": [
    "# Calculate R-squared\n",
    "r2 = r2_score(test['close'], predictions)\n",
    "print(f'R² Score: {r2}')"
   ]
  },
  {
   "cell_type": "markdown",
   "metadata": {},
   "source": [
    "Save the model"
   ]
  },
  {
   "cell_type": "code",
   "execution_count": 32,
   "metadata": {},
   "outputs": [
    {
     "name": "stdout",
     "output_type": "stream",
     "text": [
      "Model saved successfully!\n"
     ]
    }
   ],
   "source": [
    "with open('trained_model.pkl', 'wb') as file:\n",
    "    pickle.dump(model_fit, file)\n",
    "\n",
    "print(\"Model saved successfully!\")"
   ]
  }
 ],
 "metadata": {
  "kernelspec": {
   "display_name": "base",
   "language": "python",
   "name": "python3"
  },
  "language_info": {
   "codemirror_mode": {
    "name": "ipython",
    "version": 3
   },
   "file_extension": ".py",
   "mimetype": "text/x-python",
   "name": "python",
   "nbconvert_exporter": "python",
   "pygments_lexer": "ipython3",
   "version": "3.11.9"
  }
 },
 "nbformat": 4,
 "nbformat_minor": 2
}
